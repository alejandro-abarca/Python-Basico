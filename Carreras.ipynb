{
 "cells": [
  {
   "cell_type": "code",
   "execution_count": 90,
   "metadata": {},
   "outputs": [],
   "source": [
    "import math\n",
    "import random"
   ]
  },
  {
   "cell_type": "code",
   "execution_count": 103,
   "metadata": {},
   "outputs": [
    {
     "name": "stdout",
     "output_type": "stream",
     "text": [
      "[('truck', 7), ('tractor', 2), ('sedan', 24), ('bus', 40)]\n",
      "[('truck', 12), ('tractor', 4), ('sedan', 66), ('bus', 50)]\n",
      "[('truck', 21), ('tractor', 6), ('sedan', 78), ('bus', 70)]\n",
      "[('truck', 34), ('tractor', 8), ('sedan', 120), ('bus', 115)]\n",
      "[('truck', 47), ('tractor', 10), ('sedan', 138), ('bus', 135)]\n",
      "[('truck', 50), ('tractor', 12), ('sedan', 156), ('bus', 160)]\n",
      "[('truck', 59), ('tractor', 14), ('sedan', 198), ('bus', 160)]\n",
      "[('truck', 66), ('tractor', 16), ('sedan', 204), ('bus', 175)]\n",
      "[('truck', 75), ('tractor', 18), ('sedan', 234), ('bus', 185)]\n",
      "[('truck', 92), ('tractor', 20), ('sedan', 258), ('bus', 225)]\n",
      "[('truck', 109), ('tractor', 22), ('sedan', 282), ('bus', 230)]\n",
      "[('truck', 112), ('tractor', 24), ('sedan', 288), ('bus', 265)]\n",
      "[('truck', 123), ('tractor', 26), ('sedan', 312), ('bus', 295)]\n",
      "[('truck', 136), ('tractor', 28), ('sedan', 342), ('bus', 295)]\n",
      "[('truck', 143), ('tractor', 30), ('sedan', 354), ('bus', 340)]\n",
      "[('truck', 158), ('tractor', 32), ('sedan', 402), ('bus', 350)]\n",
      "[('truck', 171), ('tractor', 34), ('sedan', 420), ('bus', 375)]\n",
      "[('truck', 182), ('tractor', 36), ('sedan', 462), ('bus', 400)]\n",
      "[('truck', 195), ('tractor', 38), ('sedan', 492), ('bus', 440)]\n",
      "[('truck', 204), ('tractor', 40), ('sedan', 528), ('bus', 440)]\n",
      "[('truck', 213), ('tractor', 42), ('sedan', 528), ('bus', 465)]\n",
      "[('truck', 226), ('tractor', 44), ('sedan', 540), ('bus', 475)]\n",
      "[('truck', 241), ('tractor', 46), ('sedan', 552), ('bus', 520)]\n",
      "[('truck', 258), ('tractor', 48), ('sedan', 564), ('bus', 555)]\n",
      "[('truck', 269), ('tractor', 50), ('sedan', 588), ('bus', 565)]\n",
      "[('truck', 272), ('tractor', 52), ('sedan', 594), ('bus', 595)]\n",
      "[('truck', 275), ('tractor', 54), ('sedan', 606), ('bus', 620)]\n",
      "[('truck', 292), ('tractor', 56), ('sedan', 642), ('bus', 665)]\n",
      "[('truck', 309), ('tractor', 58), ('sedan', 648), ('bus', 710)]\n",
      "[('truck', 310), ('tractor', 60), ('sedan', 696), ('bus', 720)]\n",
      "[('truck', 315), ('tractor', 62), ('sedan', 696), ('bus', 765)]\n",
      "[('truck', 330), ('tractor', 64), ('sedan', 714), ('bus', 780)]\n",
      "[('truck', 331), ('tractor', 66), ('sedan', 732), ('bus', 795)]\n",
      "[('truck', 338), ('tractor', 68), ('sedan', 786), ('bus', 820)]\n",
      "[('truck', 353), ('tractor', 70), ('sedan', 822), ('bus', 865)]\n",
      "[('truck', 360), ('tractor', 72), ('sedan', 828), ('bus', 895)]\n",
      "[('truck', 361), ('tractor', 74), ('sedan', 846), ('bus', 910)]\n",
      "[('truck', 374), ('tractor', 76), ('sedan', 900), ('bus', 940)]\n",
      "[('truck', 391), ('tractor', 78), ('sedan', 936), ('bus', 965)]\n",
      "Winner: [('bus', 1005)]\n",
      "Los vehículos hicieron: 160 races\n"
     ]
    }
   ],
   "source": [
    "class car:\n",
    "    limit=1000\n",
    "    races=0\n",
    "    def __init__(self, name):\n",
    "        self.force=0\n",
    "        self.progress=0\n",
    "        self.threshold=False \n",
    "        self.name=name\n",
    "    def car_force(self):\n",
    "        return random.randint(0,9)\n",
    "    def race_threshold(self):\n",
    "        self.threshold=car.limit<self.progress\n",
    "        return self.threshold\n",
    "    \n",
    "    def car_progress(self,function):\n",
    "        if not self.race_threshold():\n",
    "            self.force =self.car_force()\n",
    "            self.progress += int(function(self.force))\n",
    "            car.races+= 1\n",
    "        return self.race_threshold()\n",
    "\n",
    "class truck(car):\n",
    "    def __init__(self):\n",
    "        super(truck,self).__init__(name=\"truck\")\n",
    "    def car_progress(self):\n",
    "        return super(truck,self).car_progress(function=lambda x: 2*x+1)\n",
    "\n",
    "class tractor(car):\n",
    "    def __init__(self):\n",
    "        super(tractor,self).__init__(name=\"tractor\")\n",
    "    def car_progress(self):\n",
    "        return super(tractor,self).car_progress(function=lambda x:int(math.log(force,2)))\n",
    "\n",
    "class sedan(car):\n",
    "    def __init__(self):\n",
    "        super(sedan, self).__init__(name=\"sedan\")\n",
    "    def car_progress(self):\n",
    "        return super(sedan,self).car_progress(function= lambda x: 3*x*2)\n",
    "    \n",
    "class bus(car):\n",
    "    def __init__(self):\n",
    "        super(bus,self).__init__(name=\"bus\")\n",
    "    def car_progress(self):\n",
    "        return super(bus,self).car_progress(function=lambda x: 5*x)\n",
    "\n",
    "        \n",
    "car_1=truck()\n",
    "car_2=tractor()\n",
    "car_3=sedan()\n",
    "car_4=bus()\n",
    "\n",
    "cars= [car_1,car_2,car_3,car_4]\n",
    "\n",
    "\n",
    "while not any([i.car_progress() for i in cars]):\n",
    "    print([(i.name,i.progress) for i in cars])\n",
    "\n",
    "\n",
    "print('Winner:', [(i.name, i.progress) for i in cars if i.threshold] )\n",
    "print('Los vehículos hicieron:' , car.races, 'races')\n",
    "\n",
    "\n",
    "\n",
    "    "
   ]
  },
  {
   "cell_type": "code",
   "execution_count": 65,
   "metadata": {},
   "outputs": [
    {
     "data": {
      "text/plain": [
       "3"
      ]
     },
     "execution_count": 65,
     "metadata": {},
     "output_type": "execute_result"
    }
   ],
   "source": []
  },
  {
   "cell_type": "raw",
   "metadata": {},
   "source": []
  },
  {
   "cell_type": "code",
   "execution_count": 61,
   "metadata": {},
   "outputs": [
    {
     "data": {
      "text/plain": [
       "1"
      ]
     },
     "execution_count": 61,
     "metadata": {},
     "output_type": "execute_result"
    }
   ],
   "source": []
  },
  {
   "cell_type": "code",
   "execution_count": 62,
   "metadata": {},
   "outputs": [
    {
     "data": {
      "text/plain": [
       "27"
      ]
     },
     "execution_count": 62,
     "metadata": {},
     "output_type": "execute_result"
    }
   ],
   "source": [
    "        "
   ]
  },
  {
   "cell_type": "code",
   "execution_count": 63,
   "metadata": {},
   "outputs": [
    {
     "data": {
      "text/plain": [
       "15"
      ]
     },
     "execution_count": 63,
     "metadata": {},
     "output_type": "execute_result"
    }
   ],
   "source": [
    "    "
   ]
  },
  {
   "cell_type": "code",
   "execution_count": 58,
   "metadata": {},
   "outputs": [
    {
     "data": {
      "text/plain": [
       "9"
      ]
     },
     "execution_count": 58,
     "metadata": {},
     "output_type": "execute_result"
    }
   ],
   "source": []
  },
  {
   "cell_type": "code",
   "execution_count": 71,
   "metadata": {},
   "outputs": [],
   "source": []
  },
  {
   "cell_type": "code",
   "execution_count": 72,
   "metadata": {},
   "outputs": [
    {
     "data": {
      "text/plain": [
       "3"
      ]
     },
     "execution_count": 72,
     "metadata": {},
     "output_type": "execute_result"
    }
   ],
   "source": [
    "\n"
   ]
  },
  {
   "cell_type": "code",
   "execution_count": null,
   "metadata": {},
   "outputs": [],
   "source": []
  }
 ],
 "metadata": {
  "kernelspec": {
   "display_name": "Python 3",
   "language": "python",
   "name": "python3"
  },
  "language_info": {
   "codemirror_mode": {
    "name": "ipython",
    "version": 3
   },
   "file_extension": ".py",
   "mimetype": "text/x-python",
   "name": "python",
   "nbconvert_exporter": "python",
   "pygments_lexer": "ipython3",
   "version": "3.7.0"
  }
 },
 "nbformat": 4,
 "nbformat_minor": 2
}
