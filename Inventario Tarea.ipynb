{
 "cells": [
  {
   "cell_type": "code",
   "execution_count": 24,
   "metadata": {},
   "outputs": [
    {
     "name": "stdout",
     "output_type": "stream",
     "text": [
      "What would you like to do?: Ase\n",
      "What type of product would you like to add?: 1\n",
      "Please input the brand of the product: 1\n",
      "Please input the price of the product: 1\n"
     ]
    },
    {
     "ename": "KeyError",
     "evalue": "'1'",
     "output_type": "error",
     "traceback": [
      "\u001b[1;31m---------------------------------------------------------------------------\u001b[0m",
      "\u001b[1;31mKeyError\u001b[0m                                  Traceback (most recent call last)",
      "\u001b[1;32m<ipython-input-24-0e99eebe30d0>\u001b[0m in \u001b[0;36m<module>\u001b[1;34m()\u001b[0m\n\u001b[0;32m      6\u001b[0m     \u001b[0mproduct_brand\u001b[0m\u001b[1;33m=\u001b[0m\u001b[0minput\u001b[0m\u001b[1;33m(\u001b[0m\u001b[1;34m\"Please input the brand of the product: \"\u001b[0m\u001b[1;33m)\u001b[0m\u001b[1;33m\u001b[0m\u001b[0m\n\u001b[0;32m      7\u001b[0m     \u001b[0mproduct_price\u001b[0m\u001b[1;33m=\u001b[0m\u001b[0minput\u001b[0m\u001b[1;33m(\u001b[0m\u001b[1;34m\"Please input the price of the product: \"\u001b[0m\u001b[1;33m)\u001b[0m\u001b[1;33m\u001b[0m\u001b[0m\n\u001b[1;32m----> 8\u001b[1;33m     \u001b[0minventory\u001b[0m\u001b[1;33m[\u001b[0m\u001b[0mproduct_type\u001b[0m\u001b[1;33m]\u001b[0m\u001b[1;33m[\u001b[0m\u001b[1;34m'Brand'\u001b[0m\u001b[1;33m]\u001b[0m\u001b[1;33m=\u001b[0m\u001b[0mproduct_brand\u001b[0m\u001b[1;33m\u001b[0m\u001b[0m\n\u001b[0m\u001b[0;32m      9\u001b[0m     \u001b[0minventory\u001b[0m\u001b[1;33m[\u001b[0m\u001b[0mproduct_type\u001b[0m\u001b[1;33m]\u001b[0m\u001b[1;33m[\u001b[0m\u001b[1;34m'Price'\u001b[0m\u001b[1;33m]\u001b[0m\u001b[1;33m=\u001b[0m\u001b[0mproduct_brand\u001b[0m\u001b[1;33m\u001b[0m\u001b[0m\n",
      "\u001b[1;31mKeyError\u001b[0m: '1'"
     ]
    }
   ],
   "source": [
    "inventory= {'Milk':{'Brand':None,'Price':None},'Bread':{'Brand':None,'Price':None},'Juice':{'Brand':None,'Price':None}}\n",
    "\n",
    "prompt= input(\"What would you like to do?: (add,delete)\")\n",
    "if prompt== 'add':\n",
    "    product_type=input(\"What type of product would you like to add?: \")\n",
    "    product_brand=input(\"Please input the brand of the product: \")\n",
    "    product_price=input(\"Please input the price of the product: \")\n",
    "    inventory[product_type]['Brand']=product_brand\n",
    "    inventory[product_type]['Price']=product_brand\n"
   ]
  },
  {
   "cell_type": "markdown",
   "metadata": {},
   "source": []
  },
  {
   "cell_type": "code",
   "execution_count": 23,
   "metadata": {},
   "outputs": [],
   "source": [
    "del inventory['Milk']['Brand']"
   ]
  },
  {
   "cell_type": "code",
   "execution_count": 25,
   "metadata": {},
   "outputs": [
    {
     "name": "stdout",
     "output_type": "stream",
     "text": [
      "Please work\n"
     ]
    }
   ],
   "source": [
    "inventory= {'Milk':{'Brand':'Please work','Price':None},'Bread':{'Brand':None,'Price':None},'Juice':{'Brand':None,'Price':None}}\n",
    "\n",
    "print(inventory['Milk']['Brand'])"
   ]
  },
  {
   "cell_type": "code",
   "execution_count": 4,
   "metadata": {},
   "outputs": [],
   "source": [
    "product_type=['Milk','Bread','Juice']\n",
    "product_price=[4,2,6]\n",
    "product_brand=['Dos Pinos','Bimbo','Del Valle']\n"
   ]
  },
  {
   "cell_type": "code",
   "execution_count": 26,
   "metadata": {},
   "outputs": [
    {
     "name": "stdout",
     "output_type": "stream",
     "text": [
      "printable string:{'Milk': {'Brand': 'Please work', 'Price': None}, 'Bread': {'Brand': None, 'Price': None}, 'Juice': {'Brand': None, 'Price': None}}\n"
     ]
    }
   ],
   "source": [
    "print(\"printable string:%s\" % str (inventory))"
   ]
  },
  {
   "cell_type": "code",
   "execution_count": null,
   "metadata": {},
   "outputs": [],
   "source": []
  },
  {
   "cell_type": "code",
   "execution_count": null,
   "metadata": {},
   "outputs": [],
   "source": []
  },
  {
   "cell_type": "code",
   "execution_count": null,
   "metadata": {},
   "outputs": [],
   "source": []
  },
  {
   "cell_type": "code",
   "execution_count": 27,
   "metadata": {},
   "outputs": [],
   "source": [
    "inventory= {'type':None,'brand':None,'price':None}"
   ]
  },
  {
   "cell_type": "code",
   "execution_count": null,
   "metadata": {},
   "outputs": [],
   "source": [
    "prompt= input(\"What would you like to do?: (add,delete,modify)\")\n",
    "if prompt== 'add':\n",
    "    product_type=input(\"What type of product would you like to add?: \")\n",
    "    product_brand=input(\"Please input the brand of the product: \")\n",
    "    product_price=input(\"Please input the price of the product: \")\n",
    "    inventory['Brand']=product_brand\n",
    "    inventory[product_type]['Price']=product_brand\n"
   ]
  },
  {
   "cell_type": "code",
   "execution_count": 43,
   "metadata": {},
   "outputs": [],
   "source": [
    "Milk=dict()\n",
    "Bread=dict()\n",
    "Juice=dict()\n"
   ]
  },
  {
   "cell_type": "code",
   "execution_count": 91,
   "metadata": {},
   "outputs": [],
   "source": [
    "Milk_Brands=[]\n",
    "inventory={'Milk':[],'Bread':[],'Juice':[]}"
   ]
  },
  {
   "cell_type": "code",
   "execution_count": 107,
   "metadata": {},
   "outputs": [],
   "source": [
    "inventory['Milk'].append({'Dos1 Pinos': 12})\n",
    "inventory['Milk'].append({'Dos2 Pinos': 12})"
   ]
  },
  {
   "cell_type": "code",
   "execution_count": 94,
   "metadata": {},
   "outputs": [
    {
     "name": "stdout",
     "output_type": "stream",
     "text": [
      "What would you like to do?: (add,delete,modify)add\n",
      "What type of product would you like to add?: Milk\n",
      "Please input the brand of the product: BrandFuckYes\n",
      "Please input the price of the product: 144\n"
     ]
    }
   ],
   "source": [
    "prompt= input(\"What would you like to do?: (add,delete,modify,report)\")\n",
    "if prompt== 'add':\n",
    "    product_type=input(\"What type of product would you like to add?: \")\n",
    "    product_brand=input(\"Please input the brand of the product: \")\n",
    "    product_price=input(\"Please input the price of the product: \")\n",
    "    inventory[product_type].append({product_brand:product_price})\n",
    "    if prompt == 'delete':\n",
    "        print('Here are the product types: ')\n",
    "        print(inventory.keys())\n",
    "        product_type=input(\"What type of product would you like to delete?: \")\n",
    "        product_brand=input(\"Please input the brand of the product: \")\n",
    "        inventory[product_type]"
   ]
  },
  {
   "cell_type": "code",
   "execution_count": 126,
   "metadata": {},
   "outputs": [
    {
     "ename": "ValueError",
     "evalue": "'Dos1 Pinos:12' is not in list",
     "output_type": "error",
     "traceback": [
      "\u001b[1;31m---------------------------------------------------------------------------\u001b[0m",
      "\u001b[1;31mValueError\u001b[0m                                Traceback (most recent call last)",
      "\u001b[1;32m<ipython-input-126-f1c123a9bacb>\u001b[0m in \u001b[0;36m<module>\u001b[1;34m()\u001b[0m\n\u001b[1;32m----> 1\u001b[1;33m \u001b[0minventory\u001b[0m\u001b[1;33m[\u001b[0m\u001b[1;34m'Milk'\u001b[0m\u001b[1;33m]\u001b[0m\u001b[1;33m.\u001b[0m\u001b[0mpop\u001b[0m\u001b[1;33m(\u001b[0m\u001b[0minventory\u001b[0m\u001b[1;33m[\u001b[0m\u001b[1;34m'Milk'\u001b[0m\u001b[1;33m]\u001b[0m\u001b[1;33m.\u001b[0m\u001b[0mindex\u001b[0m\u001b[1;33m(\u001b[0m\u001b[1;34m'Dos1 Pinos:12'\u001b[0m\u001b[1;33m)\u001b[0m\u001b[1;33m)\u001b[0m\u001b[1;33m\u001b[0m\u001b[0m\n\u001b[0m",
      "\u001b[1;31mValueError\u001b[0m: 'Dos1 Pinos:12' is not in list"
     ]
    }
   ],
   "source": [
    "inventory['Milk'].pop(inventory['Milk'].index())"
   ]
  },
  {
   "cell_type": "code",
   "execution_count": 65,
   "metadata": {},
   "outputs": [
    {
     "name": "stdout",
     "output_type": "stream",
     "text": [
      "What type of product would you like to add?: Milk\n",
      "Please input the brand of the product: Brand2\n",
      "Please input the price of the product: 12\n"
     ]
    }
   ],
   "source": [
    "if prompt== 'add':\n",
    "    product_type=input(\"What type of product would you like to add?: \")\n",
    "    product_brand=input(\"Please input the brand of the product: \")\n",
    "    product_price=input(\"Please input the price of the product: \")\n",
    "    inventory[product_type]={product_brand:product_price}"
   ]
  },
  {
   "cell_type": "code",
   "execution_count": 116,
   "metadata": {},
   "outputs": [
    {
     "ename": "ValueError",
     "evalue": "'Brandz' is not in list",
     "output_type": "error",
     "traceback": [
      "\u001b[1;31m---------------------------------------------------------------------------\u001b[0m",
      "\u001b[1;31mValueError\u001b[0m                                Traceback (most recent call last)",
      "\u001b[1;32m<ipython-input-116-1fefab2f9319>\u001b[0m in \u001b[0;36m<module>\u001b[1;34m()\u001b[0m\n\u001b[1;32m----> 1\u001b[1;33m \u001b[0minventory\u001b[0m\u001b[1;33m[\u001b[0m\u001b[1;34m'Milk'\u001b[0m\u001b[1;33m]\u001b[0m\u001b[1;33m.\u001b[0m\u001b[0mindex\u001b[0m\u001b[1;33m(\u001b[0m\u001b[0melement\u001b[0m\u001b[1;33m)\u001b[0m\u001b[1;33m\u001b[0m\u001b[0m\n\u001b[0m",
      "\u001b[1;31mValueError\u001b[0m: 'Brandz' is not in list"
     ]
    }
   ],
   "source": [
    "inventory['Milk'].index(element)"
   ]
  },
  {
   "cell_type": "code",
   "execution_count": 97,
   "metadata": {},
   "outputs": [
    {
     "name": "stdout",
     "output_type": "stream",
     "text": [
      "Here are the product types: \n",
      "dict_keys(['Milk', 'Bread', 'Juice'])\n"
     ]
    }
   ],
   "source": [
    " print('Here are the product types: ')\n",
    "print(inventory.keys())"
   ]
  },
  {
   "cell_type": "code",
   "execution_count": 124,
   "metadata": {},
   "outputs": [
    {
     "data": {
      "text/plain": [
       "[{'Brandz': '12'},\n",
       " {'BrandFuckYes': '144'},\n",
       " {'Dos1 Pinos': 12},\n",
       " {'Dos2 Pinos': 12}]"
      ]
     },
     "execution_count": 124,
     "metadata": {},
     "output_type": "execute_result"
    }
   ],
   "source": [
    "inventory['Milk']"
   ]
  },
  {
   "cell_type": "code",
   "execution_count": null,
   "metadata": {},
   "outputs": [],
   "source": [
    "filter(lambda brand: brand['name'] == 'Pam', people)\n"
   ]
  }
 ],
 "metadata": {
  "kernelspec": {
   "display_name": "Python 3",
   "language": "python",
   "name": "python3"
  },
  "language_info": {
   "codemirror_mode": {
    "name": "ipython",
    "version": 3
   },
   "file_extension": ".py",
   "mimetype": "text/x-python",
   "name": "python",
   "nbconvert_exporter": "python",
   "pygments_lexer": "ipython3",
   "version": "3.7.0"
  }
 },
 "nbformat": 4,
 "nbformat_minor": 2
}
